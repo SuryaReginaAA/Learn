{
 "cells": [
  {
   "cell_type": "code",
   "execution_count": 1,
   "metadata": {},
   "outputs": [
    {
     "name": "stdout",
     "output_type": "stream",
     "text": [
      "Vector 1\n",
      " [[ 3]\n",
      " [-1]\n",
      " [ 2]]\n",
      "Vector 2\n",
      " [[ 2]\n",
      " [ 4]\n",
      " [-1]]\n",
      "Dot Product\n",
      " [[0]]\n"
     ]
    }
   ],
   "source": [
    "# importing required libraries (numpy as np)\n",
    "import numpy as np\n",
    "#Creating vectors\n",
    "Vector_1 = np.array([[3],[-1],[2]])\n",
    "Vector_2 = np.array([[2],[4],[-1]])\n",
    "print(\"Vector 1\\n\",Vector_1)\n",
    "print(\"Vector 2\\n\",Vector_2)\n",
    "#Finding the transpose of Vector_1 \n",
    "trans = np.transpose(Vector_1)\n",
    "#Finding the dot product \n",
    "result = np.dot(trans,Vector_2)\n",
    "print(\"Dot Product\\n\",result)\n"
   ]
  },
  {
   "cell_type": "code",
   "execution_count": null,
   "metadata": {},
   "outputs": [],
   "source": []
  }
 ],
 "metadata": {
  "kernelspec": {
   "display_name": "Python 3",
   "language": "python",
   "name": "python3"
  },
  "language_info": {
   "codemirror_mode": {
    "name": "ipython",
    "version": 3
   },
   "file_extension": ".py",
   "mimetype": "text/x-python",
   "name": "python",
   "nbconvert_exporter": "python",
   "pygments_lexer": "ipython3",
   "version": "3.7.4"
  }
 },
 "nbformat": 4,
 "nbformat_minor": 2
}
