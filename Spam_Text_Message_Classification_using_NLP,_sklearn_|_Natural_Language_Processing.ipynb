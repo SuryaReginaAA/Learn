{
  "nbformat": 4,
  "nbformat_minor": 0,
  "metadata": {
    "colab": {
      "name": "Spam Text Message Classification using NLP, sklearn | Natural Language Processing.ipynb",
      "provenance": [],
      "authorship_tag": "ABX9TyN1lWm6YB10JU+eRlkcqFgi"
    },
    "kernelspec": {
      "name": "python3",
      "display_name": "Python 3"
    },
    "language_info": {
      "name": "python"
    }
  },
  "cells": [
    {
      "cell_type": "markdown",
      "source": [
        "<a href =\"https://www.youtube.com/watch?v=mrF9MD56-wk&list=PLc2rvfiptPSQgsORc7iuv7UxhbRJox-pW&index=7\"> youtube reference</a>\n",
        "\n",
        "## NLP Tutorial 1 - Spam Text Message Classification using NLP, sklearn | Natural Language Processing"
      ],
      "metadata": {
        "id": "YsGPYp5Me0K1"
      }
    },
    {
      "cell_type": "markdown",
      "source": [
        "### What is NLP?\n",
        "Natural Language Processing(NLP) is the field of Artificial Intelligence\n",
        "\n",
        "#### Application of NLP\n",
        "- Text Classification\n",
        "- Spam Filters\n",
        "- Voice text messaging\n",
        "- Sentiment  analysis\n",
        "- Spell or Grammar check\n",
        "- Chat Bot\n",
        "- Search Suggestion\n",
        "- Search Auto correct\n",
        "- Automatic review analysis system\n",
        "- Machine translation\n",
        "\n",
        "and so much ....\n",
        "\n",
        "NlP can be classified into 2 ways  =>\n",
        "- Natural language Understanding(Text Classification)\n",
        "-Natural Language Generation(Text Generation)\n",
        "\n",
        "\n",
        "## "
      ],
      "metadata": {
        "id": "JHnOZnUtfU5d"
      }
    },
    {
      "cell_type": "code",
      "execution_count": null,
      "metadata": {
        "id": "x74g8SoqeuXl"
      },
      "outputs": [],
      "source": [
        ""
      ]
    },
    {
      "cell_type": "code",
      "source": [
        ""
      ],
      "metadata": {
        "id": "GKc8xEEle_o4"
      },
      "execution_count": null,
      "outputs": []
    }
  ]
}