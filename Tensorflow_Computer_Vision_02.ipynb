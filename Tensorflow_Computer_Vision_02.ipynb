{
  "nbformat": 4,
  "nbformat_minor": 0,
  "metadata": {
    "colab": {
      "name": "Tensorflow_Computer_Vision_02.ipynb",
      "provenance": [],
      "authorship_tag": "ABX9TyMT4M/IVnSxeK3zUm04JMwr"
    },
    "kernelspec": {
      "name": "python3",
      "display_name": "Python 3"
    },
    "language_info": {
      "name": "python"
    }
  },
  "cells": [
    {
      "cell_type": "markdown",
      "source": [
        "Basic Computer Vision With ML\n",
        "\n",
        "Fashion Mnist\n",
        "* 70k Images\n",
        "* 10 Categories\n",
        "* Images are 28*28\n",
        "* Can train a neural net"
      ],
      "metadata": {
        "id": "kUIetqb_Bu7q"
      }
    },
    {
      "cell_type": "code",
      "execution_count": 2,
      "metadata": {
        "id": "OTI-p4E_BoJ0"
      },
      "outputs": [],
      "source": [
        "import tensorflow as tf\n",
        "from keras import Sequential\n",
        "from keras.layers import Dense"
      ]
    },
    {
      "cell_type": "code",
      "source": [
        "# fashion_mnist dataset is already inbuild in keras datasets\n",
        "from tensorflow import keras \n",
        "\n",
        "fashion_mnist = keras.datasets.fashion_mnist\n",
        "(train_images, train_labels), (test_images, test_labels) = fashion_mnist.load_data()"
      ],
      "metadata": {
        "colab": {
          "base_uri": "https://localhost:8080/"
        },
        "id": "wN7VKr8_DKeC",
        "outputId": "4d869d2e-40fd-463c-fe7f-ba0f657e377d"
      },
      "execution_count": 3,
      "outputs": [
        {
          "output_type": "stream",
          "name": "stdout",
          "text": [
            "Downloading data from https://storage.googleapis.com/tensorflow/tf-keras-datasets/train-labels-idx1-ubyte.gz\n",
            "32768/29515 [=================================] - 0s 0us/step\n",
            "40960/29515 [=========================================] - 0s 0us/step\n",
            "Downloading data from https://storage.googleapis.com/tensorflow/tf-keras-datasets/train-images-idx3-ubyte.gz\n",
            "26427392/26421880 [==============================] - 0s 0us/step\n",
            "26435584/26421880 [==============================] - 0s 0us/step\n",
            "Downloading data from https://storage.googleapis.com/tensorflow/tf-keras-datasets/t10k-labels-idx1-ubyte.gz\n",
            "16384/5148 [===============================================================================================] - 0s 0us/step\n",
            "Downloading data from https://storage.googleapis.com/tensorflow/tf-keras-datasets/t10k-images-idx3-ubyte.gz\n",
            "4423680/4422102 [==============================] - 0s 0us/step\n",
            "4431872/4422102 [==============================] - 0s 0us/step\n"
          ]
        }
      ]
    },
    {
      "cell_type": "markdown",
      "source": [
        "The label 09 indicates the class of the image as ankle boots there is 2 main reason for representing labels as numbers\n",
        "\n",
        "* the number 09 represents the class ankle boots But if we represent the label as 'ankle boots' then the label gets biased to the english language word\n",
        "\n",
        "* it is more easier for computation when computer works with numbers(computers deals great with numbers)\n"
      ],
      "metadata": {
        "id": "xpwgtmLLFiyV"
      }
    },
    {
      "cell_type": "code",
      "source": [
        "# creating the neural network\n",
        "\n",
        "model = Sequential()\n",
        "# first layer has input shape 28 * 28 which is the size of the image\n",
        "model.add(keras.layers.Flatten(input_shape = (28, 28)))\n",
        "# we have 128 functions each of them having 128 parameters on \n",
        "# it that is from f0 to f127\n",
        "model.add(keras.layers.Dense(128,activation = tf.nn.relu))\n",
        "# output layer has 10 neurons represent 10 categories\n",
        "model.add(keras.layers.Dense( 10, activation = tf.nn.softmax))"
      ],
      "metadata": {
        "id": "nFNMdv0_DrM-"
      },
      "execution_count": 4,
      "outputs": []
    },
    {
      "cell_type": "code",
      "source": [
        "model.compile(optimizer = tf.keras.optimizers.Adam(),\n",
        "              loss = 'sparse_categorical_crossentropy',\n",
        "              metrics=['accuracy'])\n",
        "\n",
        "model.fit(train_images, train_labels, epochs=5)"
      ],
      "metadata": {
        "colab": {
          "base_uri": "https://localhost:8080/"
        },
        "id": "OgecHYZ5nLvJ",
        "outputId": "ed7d2bd9-0d20-4c36-c504-08879fba6ac8"
      },
      "execution_count": 8,
      "outputs": [
        {
          "output_type": "stream",
          "name": "stdout",
          "text": [
            "Epoch 1/5\n",
            "1875/1875 [==============================] - 5s 2ms/step - loss: 3.6834 - accuracy: 0.6819\n",
            "Epoch 2/5\n",
            "1875/1875 [==============================] - 5s 2ms/step - loss: 0.7287 - accuracy: 0.7237\n",
            "Epoch 3/5\n",
            "1875/1875 [==============================] - 5s 2ms/step - loss: 0.6330 - accuracy: 0.7609\n",
            "Epoch 4/5\n",
            "1875/1875 [==============================] - 5s 2ms/step - loss: 0.5967 - accuracy: 0.7848\n",
            "Epoch 5/5\n",
            "1875/1875 [==============================] - 5s 2ms/step - loss: 0.5313 - accuracy: 0.8163\n"
          ]
        },
        {
          "output_type": "execute_result",
          "data": {
            "text/plain": [
              "<keras.callbacks.History at 0x7fcea96bda50>"
            ]
          },
          "metadata": {},
          "execution_count": 8
        }
      ]
    },
    {
      "cell_type": "code",
      "source": [
        "model.evaluate(test_images, test_labels)"
      ],
      "metadata": {
        "colab": {
          "base_uri": "https://localhost:8080/"
        },
        "id": "6UQ0wrTJbV3S",
        "outputId": "d6dd7b9c-1f97-4592-b244-a3b9322fc569"
      },
      "execution_count": 9,
      "outputs": [
        {
          "output_type": "stream",
          "name": "stdout",
          "text": [
            "313/313 [==============================] - 1s 2ms/step - loss: 0.5475 - accuracy: 0.8178\n"
          ]
        },
        {
          "output_type": "execute_result",
          "data": {
            "text/plain": [
              "[0.5475317239761353, 0.817799985408783]"
            ]
          },
          "metadata": {},
          "execution_count": 9
        }
      ]
    },
    {
      "cell_type": "code",
      "source": [
        "classifications = model.predict(test_images)\n",
        "\n",
        "print(classifications[0])"
      ],
      "metadata": {
        "colab": {
          "base_uri": "https://localhost:8080/"
        },
        "id": "_QIKxksFa53T",
        "outputId": "956056bb-468d-498a-81ad-e9248287e41e"
      },
      "execution_count": 10,
      "outputs": [
        {
          "output_type": "stream",
          "name": "stdout",
          "text": [
            "[2.0219120e-38 1.9636519e-19 0.0000000e+00 3.3474913e-34 0.0000000e+00\n",
            " 1.1922300e-02 1.4459451e-36 2.4544189e-03 2.8771685e-10 9.8562324e-01]\n"
          ]
        }
      ]
    },
    {
      "cell_type": "code",
      "source": [
        "print(test_labels[0])"
      ],
      "metadata": {
        "colab": {
          "base_uri": "https://localhost:8080/"
        },
        "id": "_eD5OAWFcono",
        "outputId": "e47c38a6-0eae-4cd1-a593-e11c6e62d8d8"
      },
      "execution_count": 11,
      "outputs": [
        {
          "output_type": "stream",
          "name": "stdout",
          "text": [
            "9\n"
          ]
        }
      ]
    },
    {
      "cell_type": "code",
      "source": [
        ""
      ],
      "metadata": {
        "id": "0Zk6NWz2cscD"
      },
      "execution_count": null,
      "outputs": []
    }
  ]
}