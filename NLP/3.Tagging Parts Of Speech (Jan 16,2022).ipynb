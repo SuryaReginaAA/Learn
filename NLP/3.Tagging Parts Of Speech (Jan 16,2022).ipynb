{
 "cells": [
  {
   "cell_type": "markdown",
   "metadata": {},
   "source": [
    "### Day68"
   ]
  },
  {
   "cell_type": "markdown",
   "metadata": {},
   "source": [
    "<h1>Tagging Parts of Speech</h1>\n",
    "<p><b>Part of speech</b> is a grammatical term that deals with the roles words play when you use them together in sentences. Tagging parts of speech, or <b>POS tagging</b>, is the task of labeling the words in your text according to their part of speech.</p>\n",
    "\n",
    "<p>In English, there are eight parts of speech:</p>"
   ]
  },
  {
   "cell_type": "markdown",
   "metadata": {},
   "source": [
    "<table>\n",
    "<tr><th>Part of speech</th>\t<th>Role</th>\t<th>Examples</th></tr>\n",
    "<tr><td>Noun</td>\t<td>Is a person, place, or thing</td>\t<td>mountain, bagel, Poland</td></tr>\n",
    "<tr><td>Pronoun</td>\t<td>Replaces a noun</td>\t<td>you, she, we</td></tr>\n",
    "<tr><td>Adjective</td>\t<td>Gives information about what a noun is like</td>\t<td>efficient, windy, colorful</td></tr>\n",
    "<tr><td>Verb</td>\t<td>Is an action or a state of being</td>\t<td>learn, is, go</td></tr>\n",
    "<tr><td>Adverb</td>\t<td>Gives information about a verb, an adjective, or another adverb</td>\t<td>efficiently, always, very</td></tr>\n",
    "<tr><td>Preposition</td>\t<td>Gives information about how a noun or pronoun is connected to another word</td>\t<td>from, about, at</td></tr>\n",
    "<tr><td>Conjunction</td>\t<td>Connects two other words or phrases</td>\t<td>so, because, and</td></tr>\n",
    "<tr><td>Interjection</td>\t<td>Is an exclamation</td>\t<td>yay, ow, wow</td></tr>\n",
    "</table>"
   ]
  },
  {
   "cell_type": "markdown",
   "metadata": {},
   "source": [
    "<p>Some sources also include the category <b>articles</b> (like “a” or “the”) in the list of parts of speech, but other sources consider them to be adjectives. NLTK uses the word <b>determiner</b> to refer to articles.</p>\n",
    "\n",
    "<p>Here’s how to import the relevant parts of NLTK in order to tag parts of speech:</p>"
   ]
  },
  {
   "cell_type": "code",
   "execution_count": null,
   "metadata": {},
   "outputs": [],
   "source": []
  }
 ],
 "metadata": {
  "kernelspec": {
   "display_name": "Python 3",
   "language": "python",
   "name": "python3"
  },
  "language_info": {
   "codemirror_mode": {
    "name": "ipython",
    "version": 3
   },
   "file_extension": ".py",
   "mimetype": "text/x-python",
   "name": "python",
   "nbconvert_exporter": "python",
   "pygments_lexer": "ipython3",
   "version": "3.7.4"
  }
 },
 "nbformat": 4,
 "nbformat_minor": 2
}
